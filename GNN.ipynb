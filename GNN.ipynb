{
  "nbformat": 4,
  "nbformat_minor": 0,
  "metadata": {
    "colab": {
      "name": "CS205 Machine Learning Project.ipynb",
      "provenance": [],
      "collapsed_sections": []
    },
    "kernelspec": {
      "name": "python3",
      "display_name": "Python 3"
    },
    "accelerator": "GPU"
  },
  "cells": [
    {
      "cell_type": "markdown",
      "metadata": {
        "id": "YLAnhFKtvKvD"
      },
      "source": [
        "# Protein-Protein Interaction (PPI) Network Classifier\n",
        "## The Question\n",
        "Proteins are essential to celluar biological functions. The interactions between proteins form a complex network which regulate the cellular process. The biological functions of proteins are very specific, even the same protein in different tissues may have different functions. \n",
        "Given certain features of a set of proteins, a set of their interaction networks, and a set of biological function labels, we are interested in whether we can predict the biological functions of proteins in unseen networks, by learning from PPI network structures and features.\n",
        "\n"
      ]
    },
    {
      "cell_type": "markdown",
      "metadata": {
        "id": "OwenUOxC-AQJ"
      },
      "source": [
        "## Basic Setup\n",
        "### PyTorch, PyTorch Geometric, NetworkX, and MatPlotLib\n",
        "We first load the basic tools. **PyTorch** is the machine learning framework and neural network backend, **PyTorch Geometric** (PyG) is a graph neural network learning extension library for PyTorch. **NetworkX** and **MatPlotLib** are for graph visualization."
      ]
    },
    {
      "cell_type": "code",
      "metadata": {
        "id": "pGW4LHsZM-Ys",
        "colab": {
          "base_uri": "https://localhost:8080/"
        },
        "outputId": "9f5dbd53-295d-4f5b-a4e6-e20d9f49400b"
      },
      "source": [
        "# install PyTorch Geometric\n",
        "!pip install -q torch-scatter -f https://pytorch-geometric.com/whl/torch-1.7.0+cu101.html\n",
        "!pip install -q torch-sparse -f https://pytorch-geometric.com/whl/torch-1.7.0+cu101.html\n",
        "!pip install -q torch-geometric"
      ],
      "execution_count": null,
      "outputs": [
        {
          "output_type": "stream",
          "text": [
            "\u001b[K     |████████████████████████████████| 11.9MB 233kB/s \n",
            "\u001b[K     |████████████████████████████████| 24.3MB 144kB/s \n",
            "\u001b[K     |████████████████████████████████| 194kB 11.8MB/s \n",
            "\u001b[K     |████████████████████████████████| 235kB 28.2MB/s \n",
            "\u001b[K     |████████████████████████████████| 2.2MB 47.9MB/s \n",
            "\u001b[K     |████████████████████████████████| 51kB 8.4MB/s \n",
            "\u001b[?25h  Building wheel for torch-geometric (setup.py) ... \u001b[?25l\u001b[?25hdone\n"
          ],
          "name": "stdout"
        }
      ]
    },
    {
      "cell_type": "code",
      "metadata": {
        "id": "gsNu_Vu4Px8N"
      },
      "source": [
        "import torch\n",
        "from torch.nn import Linear\n",
        "import torch.nn.functional as F\n",
        "from torch_geometric.nn import GATConv\n",
        "from torch_geometric.utils import (softmax, remove_self_loops, \n",
        "                                   add_self_loops, to_dense_adj)\n",
        "from sklearn.metrics import f1_score"
      ],
      "execution_count": null,
      "outputs": []
    },
    {
      "cell_type": "code",
      "metadata": {
        "id": "O0z25JeaOuLN"
      },
      "source": [
        "# visualization utilities\n",
        "%matplotlib inline\n",
        "import matplotlib as mpl\n",
        "import matplotlib.pyplot as plt\n",
        "import networkx as nx"
      ],
      "execution_count": null,
      "outputs": []
    },
    {
      "cell_type": "code",
      "metadata": {
        "id": "s1Hh87s2SH_v"
      },
      "source": [
        "# limit the output cell height\n",
        "from IPython.display import Javascript"
      ],
      "execution_count": null,
      "outputs": []
    },
    {
      "cell_type": "markdown",
      "metadata": {
        "id": "-xGHuHSI86jK"
      },
      "source": [
        "## The Data\n",
        "The PPI dataset was processed by Hamilton et al. (2017) and can be downloaded from [SNAP](http://snap.stanford.edu/graphsage/ppi.zip).\n",
        "The PyG library already provided a copy of the PPI dataset so we can directly load it."
      ]
    },
    {
      "cell_type": "code",
      "metadata": {
        "id": "weui6-sZyNLv",
        "colab": {
          "base_uri": "https://localhost:8080/"
        },
        "outputId": "b25d77f9-b4d9-4524-ca47-4e33832c8802"
      },
      "source": [
        "from torch_geometric.datasets import PPI\n",
        "from torch_geometric.data import DataLoader\n",
        "\n",
        "train_dataset = PPI('data/PPI', split='train')\n",
        "val_dataset = PPI('data/PPI', split='val')\n",
        "test_dataset = PPI('data/PPI', split='test')\n",
        "# PyG DataLoader can merges data objects to a mini-batch to allow parallel processing\n",
        "# `batch_size` is the number of examples (graphs) grouped in a mini-batch\n",
        "train_loader = DataLoader(train_dataset, batch_size=1, shuffle=True)\n",
        "val_loader = DataLoader(val_dataset, batch_size=2, shuffle=False)\n",
        "test_loader = DataLoader(test_dataset, batch_size=2, shuffle=False)"
      ],
      "execution_count": null,
      "outputs": [
        {
          "output_type": "stream",
          "text": [
            "Downloading https://data.dgl.ai/dataset/ppi.zip\n",
            "Extracting data/PPI/ppi.zip\n",
            "Processing...\n",
            "Done!\n"
          ],
          "name": "stdout"
        }
      ]
    },
    {
      "cell_type": "markdown",
      "metadata": {
        "id": "kBR6QyG8_f_A"
      },
      "source": [
        "There are 20 graphs in the training dataset, 2 validation graphs and 2 test graphs. \n",
        "Each node has 50 features, consists of positional gene sets, motif gene sets and immunological signatures. Each graph corresponds to a specific tissue."
      ]
    },
    {
      "cell_type": "code",
      "metadata": {
        "colab": {
          "base_uri": "https://localhost:8080/"
        },
        "id": "4bofPu3n60H3",
        "outputId": "a308b125-f035-43f9-edb8-caeff847f3d4"
      },
      "source": [
        "print(f\"Number of graphs in training dataset: {len(train_dataset)}\")\n",
        "print(f\"Number of graphs in validation dataset: {len(val_dataset)}\")\n",
        "print(f\"Number of graphs in test dataset: {len(test_dataset)}\")\n",
        "print(f\"Number of features per node: {train_dataset.num_node_features}\")\n",
        "print(f\"Number of classes: {train_dataset.num_classes}\")"
      ],
      "execution_count": null,
      "outputs": [
        {
          "output_type": "stream",
          "text": [
            "Number of graphs in training dataset: 20\n",
            "Number of graphs in validation dataset: 2\n",
            "Number of graphs in test dataset: 2\n",
            "Number of features per node: 50\n",
            "Number of classes: 121\n"
          ],
          "name": "stdout"
        }
      ]
    },
    {
      "cell_type": "markdown",
      "metadata": {
        "id": "IRYgdkaU-8BF"
      },
      "source": [
        "Because each protein can have multiple biological functions, our question is a multi-label classification problem, each node can have several class labels, and is represented as a binary vector of length 121."
      ]
    },
    {
      "cell_type": "code",
      "metadata": {
        "colab": {
          "base_uri": "https://localhost:8080/"
        },
        "id": "pY8AzO9aAOmy",
        "outputId": "5ca05f03-2023-48c2-9ee0-447542911d95"
      },
      "source": [
        "print(train_dataset[0].y.size())\n",
        "print(train_dataset[0].y[0, :])"
      ],
      "execution_count": null,
      "outputs": [
        {
          "output_type": "stream",
          "text": [
            "torch.Size([1767, 121])\n",
            "tensor([1., 0., 0., 0., 0., 0., 0., 0., 0., 1., 0., 0., 1., 0., 0., 0., 0., 1.,\n",
            "        0., 1., 0., 1., 0., 0., 0., 1., 1., 0., 1., 0., 1., 1., 1., 0., 0., 0.,\n",
            "        0., 0., 0., 0., 0., 1., 0., 0., 0., 0., 0., 1., 0., 0., 0., 0., 0., 1.,\n",
            "        1., 0., 0., 0., 0., 0., 0., 1., 0., 0., 0., 1., 0., 0., 0., 0., 0., 0.,\n",
            "        0., 0., 0., 1., 0., 0., 0., 0., 0., 1., 0., 1., 0., 1., 0., 0., 0., 0.,\n",
            "        0., 0., 1., 0., 1., 1., 0., 1., 1., 0., 1., 0., 0., 0., 0., 0., 0., 0.,\n",
            "        0., 1., 0., 0., 0., 0., 0., 1., 1., 1., 1., 1., 0.])\n"
          ],
          "name": "stdout"
        }
      ]
    },
    {
      "cell_type": "code",
      "metadata": {
        "id": "cxudYtr-C7sp"
      },
      "source": [
        "def data_stat(dataset):\n",
        "    '''\n",
        "    Get the number of nodes, edges per graph.\n",
        "    '''\n",
        "    num_nodes = torch.tensor([data.num_nodes for data in dataset])\n",
        "    num_edges = torch.tensor([data.num_edges for data in dataset])\n",
        "    return num_nodes, num_edges"
      ],
      "execution_count": null,
      "outputs": []
    },
    {
      "cell_type": "code",
      "metadata": {
        "id": "3r8iMQ4LAzox"
      },
      "source": [
        "n_train_nodes, n_train_edges = data_stat(train_dataset)\n",
        "n_val_nodes, n_val_edges = data_stat(val_dataset)\n",
        "n_test_nodes, n_test_edges = data_stat(test_dataset)"
      ],
      "execution_count": null,
      "outputs": []
    },
    {
      "cell_type": "code",
      "metadata": {
        "colab": {
          "base_uri": "https://localhost:8080/"
        },
        "id": "sM0-4-DqFoEe",
        "outputId": "2f484b90-99eb-479a-ba83-19cbca9f725a"
      },
      "source": [
        "print(f\"# Nodes: {n_train_nodes.sum()+n_val_nodes.sum()+n_test_nodes.sum()}\")\n",
        "print(f\"# Edges: {n_train_edges.sum()+n_val_edges.sum()+n_test_edges.sum()}\")\n",
        "print(f\"# Training Nodes: {n_train_nodes.sum()}\")\n",
        "print(f\"# Validation Nodes: {n_val_nodes.sum()}\")\n",
        "print(f\"# Test Nodes: {n_test_nodes.sum()}\")"
      ],
      "execution_count": null,
      "outputs": [
        {
          "output_type": "stream",
          "text": [
            "# Nodes: 56944\n",
            "# Edges: 1587264\n",
            "# Training Nodes: 44906\n",
            "# Validation Nodes: 6514\n",
            "# Test Nodes: 5524\n"
          ],
          "name": "stdout"
        }
      ]
    },
    {
      "cell_type": "markdown",
      "metadata": {
        "id": "_l5i7DTrHYD4"
      },
      "source": [
        "A detailed distribution of number of nodes or edges per graph is shown below."
      ]
    },
    {
      "cell_type": "code",
      "metadata": {
        "colab": {
          "base_uri": "https://localhost:8080/",
          "height": 320
        },
        "id": "Mj0QfjBqAzry",
        "outputId": "88399987-c250-466f-bfde-0ee334a660d2"
      },
      "source": [
        "fig, axes = plt.subplots(1, 2, figsize=(15, 5))\n",
        "axes[0].boxplot([n_train_nodes.numpy(), n_val_nodes.numpy(), n_test_nodes.numpy()])\n",
        "axes[0].set_ylabel(\"# nodes\")\n",
        "axes[1].boxplot([n_train_edges.numpy(), n_val_edges.numpy(), n_test_edges.numpy()])\n",
        "axes[1].set_ylabel(\"# edges\")\n",
        "plt.show()"
      ],
      "execution_count": null,
      "outputs": [
        {
          "output_type": "display_data",
          "data": {
            "image/png": "[encoded data removed]",
            "text/plain": [
              "<Figure size 1080x360 with 2 Axes>"
            ]
          },
          "metadata": {
            "tags": [],
            "needs_background": "light"
          }
        }
      ]
    },
    {
      "cell_type": "markdown",
      "metadata": {
        "id": "Ex6yeZhKkWT5"
      },
      "source": [
        "## Graph Attention Networks\n",
        "\n",
        "Since PPI is naturally a graph, my first thought is to use graph convolutional networks (GCN).\n",
        "However, there are two limitations of GCN.\n",
        "The first limitation is GCN optimization depends on the global graph structure, since the graph Laplacian is needed. Thus it may not generalize well to completely unseen graph.\n",
        "\n",
        "Another limitation of GCN is that it assgins equal importance of self-loops and edges to neighboring nodes. \n",
        "The normaliztion constant solely depends on the graph structure, i.e. $\\frac{1}{\\sqrt{deg(v_i) deg(v_j)}}$.\n",
        "\n",
        "This may not be a problem when most neighbors are equally important. \n",
        "But the assumption will not hold for every datasets. \n",
        "Back to our question, the protein-protein interactions are specific, that means the interaction between two proteins occurs at certain binding domains, and have particular biological function.\n",
        "Two proteins interact with the same third protein may bind to different domains and thus have entirely different functions. \n",
        "Therefore, it seems for our question, the equal importance assumption is **unlikely** to be true.\n",
        "\n",
        "So is there a way to assign **arbitrary importances** to different neighbors? The answer is yes, that is **graph attention networks** (GAT, Veličković et al. 2017), it employs self-attention mechanism to allow each node find out which neighbors they should pay more attention to (give higher importance).\n"
      ]
    },
    {
      "cell_type": "markdown",
      "metadata": {
        "id": "prKgPv5Gw4Wt"
      },
      "source": [
        "We define $\\vec{h}_i^{(l)}$ as the feature vector of node $i$ at layer $l$, $\\mathbf{W}$ is the shared node-wise weight matrix, $\\mathcal{N}_i$ as the neighborhood of node $i$, and $\\alpha_{ij}$ as the importance of node $j$'s feature to node $i$ at layer $l$.\n",
        "$$\\vec{h}_i^{(l+1)} = \\sigma \\left( \\sum_{j \\in \\mathcal{N}_i} \\alpha_{ij}\\mathbf{W}\\vec{h}_j^{(l)} \\right)$$\n",
        "Instead of explicitly defined the importance $\\alpha_{ij}$ or as learnable weight, the authors **implicitly** define $\\alpha_{ij}$ by employing self-attention mechanism $a$:\n",
        "$$e_{ij} = a \\left( \\mathbf{W}\\vec{h}_i^{(l)}, \\mathbf{W}\\vec{h}_j^{(l)} \\right)$$\n",
        "Here, $a$ is single-layer neural network with weight vector $\\vec{\\mathbf{a}}$ and nonliear function $\\text{LeakyReLU}$ i.e. a leaky version of a ReLU allows a small gradient on negative input:\n",
        "$$e_{ij} = \\text{LeakyReLU}\\left( {\\vec{\\mathbf{a}}}^T \\left[ \\mathbf{W}\\vec{h}_i^{(l)} \\parallel \\mathbf{W} \\vec{h}_j^{(l)} \\right] \\right)$$\n",
        "where $\\parallel$ is the concatenation operation.\n",
        "\n",
        "Then, $e_{ij}$ is normalized across all choices of $j$ from $\\mathcal{N}_i$:\n",
        "$$\\alpha_{ij} = \\mbox{softmax}_j (e_{ij}) =  \\frac{\\mbox{exp}(e_{ij})}{\\sum_{k\\in\\mathcal{N}_i} \\mbox{exp} (e_{ik})}$$"
      ]
    },
    {
      "cell_type": "markdown",
      "metadata": {
        "id": "elva2_EaL2sA"
      },
      "source": [
        "### Regularization by Multi-Head Attention\n",
        "The authors further proposed a regularization process by applying $K$ independent attention mechanisms with different parameters, then aggregate by either concatenating (hidden layer) or averaging (output layer) together:\n",
        "$$\\mbox{Concatenate}: \\vec{h}_i^{(l+1)} = \\; \\parallel_{k=1}^K \\sigma \\left( \\sum_{j \\in \\mathcal{N}_i} \\alpha_{ij}^{k} \\mathbf{W}^{k}\\vec{h}_j^{(l)} \\right)$$\n",
        "$$\\mbox{Average}: \\vec{h}_i^{(l+1)} = \\sigma \\left( \\frac{1}{K} \\sum_{k=1}^K \\sum_{j \\in \\mathcal{N}_i} \\alpha_{ij}^{k} \\mathbf{W}^{k}\\vec{h}_j^{(l)} \\right)$$"
      ]
    },
    {
      "cell_type": "markdown",
      "metadata": {
        "id": "lQS3pykiP6pO"
      },
      "source": [
        "### Pytorch Geometric Implementation\n",
        "PyG has already implemented the graph attention layer for us, let's take a look at its interface:\n",
        "```\n",
        "CLASS GATConv(in_channels, out_channels, heads=1, concat=True, negative_slope=0.2, dropout=0, ...)\n",
        "```\n",
        "- **heads** define the number of independent attention mechanisms applied (i.e. $K$)\n",
        "- **concat** define the multi-head aggregation method (`True` for concatenate, `False` for average)\n",
        "- **negative_slope** define the negative slope of the LeakyReLU\n",
        "- **dropout** define the dropout probability of attentions in training\n",
        "\n",
        "To allow access to the attentions $\\alpha_{ij}$ for further evaluation, I override the `message` method as suggested in [Attention Quality in GAT](https://github.com/rusty1s/pytorch_geometric/issues/482):"
      ]
    },
    {
      "cell_type": "code",
      "metadata": {
        "id": "3KOK8-EUDETl"
      },
      "source": [
        "class GATConvA(GATConv):\n",
        "    def message(self, x_j, alpha_j, alpha_i, index, ptr, size_i):\n",
        "        alpha = alpha_j if alpha_i is None else alpha_j + alpha_i\n",
        "        alpha = F.leaky_relu(alpha, self.negative_slope)\n",
        "        alpha = softmax(alpha, index, ptr, size_i)\n",
        "        self._alpha = alpha\n",
        "        self.alpha = alpha.detach() # add this line to save attention for later access\n",
        "        alpha = F.dropout(alpha, p=self.dropout, training=self.training)\n",
        "        return x_j * alpha.unsqueeze(-1)"
      ],
      "execution_count": null,
      "outputs": []
    },
    {
      "cell_type": "markdown",
      "metadata": {
        "id": "4P9yk0WmU-Jq"
      },
      "source": [
        "In the paper, the authors proposed a three-layer GAT model:\n",
        "- The first two layers consist of $K=4$ attention heads, each computing feature of length 256\n",
        "    - heads are aggregated by concatenation, resulting feature of length 1024\n",
        "    - followed by an nonlinear function **ELU**\n",
        "- The output layer consists of $K=6$ attention heads, each computing feature of length 121 (the number of classes)\n",
        "    - heads are aggregated by average\n",
        "    - followed by a **logistic sigmoid** activation\n",
        "\n",
        "A notable step in their implementation is they employed **skip connections** similar to ResNet, which is known to alleviate the vanishing gradient problem.\n",
        "\n",
        "The network is trained to minimize cross-entropy loss for multi-label classification using Adam SGD optimizer, and evaluated by **F1 score**."
      ]
    },
    {
      "cell_type": "code",
      "metadata": {
        "id": "2bUucpGTyScL"
      },
      "source": [
        "class GATNet(torch.nn.Module):\n",
        "    def __init__(self, hidden_channels, num_classes):\n",
        "        super(GATNet, self).__init__()\n",
        "        self.conv1 = GATConvA(hidden_channels, 256, heads=4)\n",
        "        self.lin1 = torch.nn.Linear(hidden_channels, 4 * 256)\n",
        "        self.conv2 = GATConvA(4 * 256, 256, heads=4)\n",
        "        self.lin2 = torch.nn.Linear(4 * 256, 4 * 256)\n",
        "        self.conv3 = GATConvA(4 * 256, num_classes, heads=6,\n",
        "                             concat=False)\n",
        "        self.lin3 = torch.nn.Linear(4 * 256, num_classes)\n",
        "\n",
        "    def forward(self, x, edge_index, skip_connection=True):\n",
        "        if skip_connection:\n",
        "            x = F.elu(self.conv1(x, edge_index) + self.lin1(x))\n",
        "            x = F.elu(self.conv2(x, edge_index) + self.lin2(x))\n",
        "            x = self.conv3(x, edge_index) + self.lin3(x)\n",
        "        else:\n",
        "            x = F.elu(self.conv1(x, edge_index))\n",
        "            x = F.elu(self.conv2(x, edge_index))\n",
        "            x = self.conv3(x, edge_index)\n",
        "        if not self.training:\n",
        "          return x, self.conv1.alpha\n",
        "        return x"
      ],
      "execution_count": null,
      "outputs": []
    },
    {
      "cell_type": "code",
      "metadata": {
        "id": "vivoATgQBRsv"
      },
      "source": [
        "device = torch.device('cuda' if torch.cuda.is_available() else 'cpu') # use GPU if available"
      ],
      "execution_count": null,
      "outputs": []
    },
    {
      "cell_type": "code",
      "metadata": {
        "id": "U82b5uuiyW48"
      },
      "source": [
        "loss_op = torch.nn.BCEWithLogitsLoss()"
      ],
      "execution_count": null,
      "outputs": []
    },
    {
      "cell_type": "code",
      "metadata": {
        "id": "DNtggZu8zNiD"
      },
      "source": [
        "def train(model, optimizer, skip_connection=True):\n",
        "    model.train()\n",
        "\n",
        "    total_loss = 0\n",
        "    for data in train_loader:\n",
        "        data = data.to(device)\n",
        "        optimizer.zero_grad()\n",
        "        # perform one forward pass and calculate cross entropy loss\n",
        "        loss = loss_op(model(data.x, data.edge_index, skip_connection), data.y)\n",
        "        total_loss += loss.item() * data.num_graphs\n",
        "        # update weights by gradients\n",
        "        loss.backward()\n",
        "        optimizer.step()\n",
        "    return total_loss / len(train_loader.dataset)"
      ],
      "execution_count": null,
      "outputs": []
    },
    {
      "cell_type": "code",
      "metadata": {
        "id": "IeBINZ4xzPEY"
      },
      "source": [
        "@torch.no_grad()\n",
        "def test(model, loader, skip_connection=True):\n",
        "    model.eval()\n",
        "\n",
        "    ys, preds = [], []\n",
        "    for data in loader:\n",
        "        ys.append(data.y)\n",
        "        out, alpha = model(data.x.to(device), data.edge_index.to(device), skip_connection)\n",
        "        preds.append((out > 0).float().cpu())\n",
        "\n",
        "    y, pred = torch.cat(ys, dim=0).numpy(), torch.cat(preds, dim=0).numpy()\n",
        "    return f1_score(y, pred, average='micro') if pred.sum() > 0 else 0, alpha, data"
      ],
      "execution_count": null,
      "outputs": []
    },
    {
      "cell_type": "markdown",
      "metadata": {
        "id": "F8P2nTmdN_FJ"
      },
      "source": [
        "Without skip-connection:"
      ]
    },
    {
      "cell_type": "code",
      "metadata": {
        "id": "sH3nNwntzQ8m",
        "colab": {
          "base_uri": "https://localhost:8080/",
          "height": 200
        },
        "outputId": "b9cf1b1b-07d9-40e6-84e4-df8b7ed6d1fb"
      },
      "source": [
        "# limit the output cell height to 200\n",
        "display(Javascript('''google.colab.output.setIframeHeight(0, true, {maxHeight: 200})'''))\n",
        "\n",
        "model = GATNet(train_dataset.num_features, train_dataset.num_classes).to(device)\n",
        "optimizer = torch.optim.Adam(model.parameters(), lr=0.005)\n",
        "for epoch in range(1, 21):\n",
        "    loss = train(model, optimizer, False)\n",
        "    val_f1, _, _ = test(model, val_loader)\n",
        "    print('Epoch: {:02d}, Loss: {:.4f}, Val F1 score: {:.4f}'.format(epoch, loss, val_f1))"
      ],
      "execution_count": null,
      "outputs": [
        {
          "output_type": "display_data",
          "data": {
            "application/javascript": [
              "google.colab.output.setIframeHeight(0, true, {maxHeight: 200})"
            ],
            "text/plain": [
              "<IPython.core.display.Javascript object>"
            ]
          },
          "metadata": {
            "tags": []
          }
        },
        {
          "output_type": "stream",
          "text": [
            "Epoch: 01, Loss: 0.6470, Val F1 score: 0.4215\n",
            "Epoch: 02, Loss: 0.5659, Val F1 score: 0.4324\n",
            "Epoch: 03, Loss: 0.5595, Val F1 score: 0.4317\n",
            "Epoch: 04, Loss: 0.5554, Val F1 score: 0.4489\n",
            "Epoch: 05, Loss: 0.5491, Val F1 score: 0.4441\n",
            "Epoch: 06, Loss: 0.5472, Val F1 score: 0.4526\n",
            "Epoch: 07, Loss: 0.6005, Val F1 score: 0.3834\n",
            "Epoch: 08, Loss: 0.6424, Val F1 score: 0.4116\n",
            "Epoch: 09, Loss: 0.6030, Val F1 score: 0.4139\n",
            "Epoch: 10, Loss: 0.5593, Val F1 score: 0.4096\n",
            "Epoch: 11, Loss: 0.5577, Val F1 score: 0.4391\n",
            "Epoch: 12, Loss: 0.5569, Val F1 score: 0.4092\n",
            "Epoch: 13, Loss: 0.5567, Val F1 score: 0.4005\n",
            "Epoch: 14, Loss: 0.5563, Val F1 score: 0.4126\n",
            "Epoch: 15, Loss: 0.5548, Val F1 score: 0.3925\n",
            "Epoch: 16, Loss: 0.5558, Val F1 score: 0.4188\n",
            "Epoch: 17, Loss: 0.5565, Val F1 score: 0.4092\n",
            "Epoch: 18, Loss: 0.5565, Val F1 score: 0.4103\n",
            "Epoch: 19, Loss: 0.5564, Val F1 score: 0.4065\n",
            "Epoch: 20, Loss: 0.5565, Val F1 score: 0.4161\n"
          ],
          "name": "stdout"
        }
      ]
    },
    {
      "cell_type": "code",
      "metadata": {
        "colab": {
          "base_uri": "https://localhost:8080/"
        },
        "id": "TZeecMojQ48G",
        "outputId": "f67613dd-4e17-4b38-9ab3-8930cd728ca7"
      },
      "source": [
        "test_f1, _, _ = test(model, test_loader, False)\n",
        "print('Test F1 score: {:.4f}'.format(test_f1))"
      ],
      "execution_count": null,
      "outputs": [
        {
          "output_type": "stream",
          "text": [
            "Test F1 score: 0.4053\n"
          ],
          "name": "stdout"
        }
      ]
    },
    {
      "cell_type": "markdown",
      "metadata": {
        "id": "Kng5KAQ4OHuo"
      },
      "source": [
        "With skip-connection:"
      ]
    },
    {
      "cell_type": "code",
      "metadata": {
        "colab": {
          "base_uri": "https://localhost:8080/",
          "height": 200
        },
        "id": "kKj_EUeWOGmW",
        "outputId": "66ff6ddd-05fb-4914-f0bf-8929c4e810f7"
      },
      "source": [
        "display(Javascript('''google.colab.output.setIframeHeight(0, true, {maxHeight: 200})'''))\n",
        "\n",
        "model = GATNet(train_dataset.num_features, train_dataset.num_classes).to(device)\n",
        "optimizer = torch.optim.Adam(model.parameters(), lr=0.005)\n",
        "\n",
        "for epoch in range(1, 101):\n",
        "    loss = train(model, optimizer, True)\n",
        "    val_f1, _, _ = test(model, val_loader)\n",
        "    print('Epoch: {:02d}, Loss: {:.4f}, Val F1 score: {:.4f}'.format(epoch, loss, val_f1))"
      ],
      "execution_count": null,
      "outputs": [
        {
          "output_type": "display_data",
          "data": {
            "application/javascript": [
              "google.colab.output.setIframeHeight(0, true, {maxHeight: 200})"
            ],
            "text/plain": [
              "<IPython.core.display.Javascript object>"
            ]
          },
          "metadata": {
            "tags": []
          }
        },
        {
          "output_type": "stream",
          "text": [
            "Epoch: 01, Loss: 0.8541, Val F1 score: 0.4829\n",
            "Epoch: 02, Loss: 0.5353, Val F1 score: 0.5441\n",
            "Epoch: 03, Loss: 0.5069, Val F1 score: 0.4859\n",
            "Epoch: 04, Loss: 0.4846, Val F1 score: 0.5881\n",
            "Epoch: 05, Loss: 0.4706, Val F1 score: 0.5999\n",
            "Epoch: 06, Loss: 0.4514, Val F1 score: 0.6246\n",
            "Epoch: 07, Loss: 0.4299, Val F1 score: 0.6095\n",
            "Epoch: 08, Loss: 0.4002, Val F1 score: 0.6562\n",
            "Epoch: 09, Loss: 0.3793, Val F1 score: 0.6492\n",
            "Epoch: 10, Loss: 0.3582, Val F1 score: 0.6733\n",
            "Epoch: 11, Loss: 0.3366, Val F1 score: 0.7355\n",
            "Epoch: 12, Loss: 0.3008, Val F1 score: 0.7574\n",
            "Epoch: 13, Loss: 0.2765, Val F1 score: 0.7804\n",
            "Epoch: 14, Loss: 0.2584, Val F1 score: 0.7873\n",
            "Epoch: 15, Loss: 0.2331, Val F1 score: 0.8210\n",
            "Epoch: 16, Loss: 0.2113, Val F1 score: 0.8254\n",
            "Epoch: 17, Loss: 0.2069, Val F1 score: 0.8333\n",
            "Epoch: 18, Loss: 0.1903, Val F1 score: 0.8543\n",
            "Epoch: 19, Loss: 0.1709, Val F1 score: 0.8710\n",
            "Epoch: 20, Loss: 0.1573, Val F1 score: 0.8775\n",
            "Epoch: 21, Loss: 0.1452, Val F1 score: 0.8769\n",
            "Epoch: 22, Loss: 0.1429, Val F1 score: 0.8921\n",
            "Epoch: 23, Loss: 0.1288, Val F1 score: 0.8978\n",
            "Epoch: 24, Loss: 0.1266, Val F1 score: 0.8984\n",
            "Epoch: 25, Loss: 0.1168, Val F1 score: 0.9064\n",
            "Epoch: 26, Loss: 0.1059, Val F1 score: 0.9101\n",
            "Epoch: 27, Loss: 0.1006, Val F1 score: 0.9191\n",
            "Epoch: 28, Loss: 0.0944, Val F1 score: 0.9188\n",
            "Epoch: 29, Loss: 0.0910, Val F1 score: 0.9244\n",
            "Epoch: 30, Loss: 0.0880, Val F1 score: 0.9273\n",
            "Epoch: 31, Loss: 0.0840, Val F1 score: 0.9242\n",
            "Epoch: 32, Loss: 0.0791, Val F1 score: 0.9232\n",
            "Epoch: 33, Loss: 0.0806, Val F1 score: 0.9314\n",
            "Epoch: 34, Loss: 0.0750, Val F1 score: 0.9336\n",
            "Epoch: 35, Loss: 0.0761, Val F1 score: 0.9337\n",
            "Epoch: 36, Loss: 0.0674, Val F1 score: 0.9355\n",
            "Epoch: 37, Loss: 0.0671, Val F1 score: 0.9356\n",
            "Epoch: 38, Loss: 0.0642, Val F1 score: 0.9395\n",
            "Epoch: 39, Loss: 0.0616, Val F1 score: 0.9398\n",
            "Epoch: 40, Loss: 0.0622, Val F1 score: 0.9405\n",
            "Epoch: 41, Loss: 0.0580, Val F1 score: 0.9438\n",
            "Epoch: 42, Loss: 0.0588, Val F1 score: 0.9406\n",
            "Epoch: 43, Loss: 0.0585, Val F1 score: 0.9417\n",
            "Epoch: 44, Loss: 0.0595, Val F1 score: 0.9431\n",
            "Epoch: 45, Loss: 0.0534, Val F1 score: 0.9462\n",
            "Epoch: 46, Loss: 0.0531, Val F1 score: 0.9486\n",
            "Epoch: 47, Loss: 0.0526, Val F1 score: 0.9418\n",
            "Epoch: 48, Loss: 0.0543, Val F1 score: 0.9471\n",
            "Epoch: 49, Loss: 0.0485, Val F1 score: 0.9464\n",
            "Epoch: 50, Loss: 0.0496, Val F1 score: 0.9518\n",
            "Epoch: 51, Loss: 0.0474, Val F1 score: 0.9516\n",
            "Epoch: 52, Loss: 0.0480, Val F1 score: 0.9513\n",
            "Epoch: 53, Loss: 0.0481, Val F1 score: 0.9538\n",
            "Epoch: 54, Loss: 0.0447, Val F1 score: 0.9509\n",
            "Epoch: 55, Loss: 0.0475, Val F1 score: 0.9522\n",
            "Epoch: 56, Loss: 0.0436, Val F1 score: 0.9545\n",
            "Epoch: 57, Loss: 0.0414, Val F1 score: 0.9486\n",
            "Epoch: 58, Loss: 0.0445, Val F1 score: 0.9552\n",
            "Epoch: 59, Loss: 0.0443, Val F1 score: 0.9534\n",
            "Epoch: 60, Loss: 0.0424, Val F1 score: 0.9533\n",
            "Epoch: 61, Loss: 0.0406, Val F1 score: 0.9570\n",
            "Epoch: 62, Loss: 0.0377, Val F1 score: 0.9571\n",
            "Epoch: 63, Loss: 0.0377, Val F1 score: 0.9571\n",
            "Epoch: 64, Loss: 0.0381, Val F1 score: 0.9567\n",
            "Epoch: 65, Loss: 0.0397, Val F1 score: 0.9584\n",
            "Epoch: 66, Loss: 0.0444, Val F1 score: 0.9495\n",
            "Epoch: 67, Loss: 0.0484, Val F1 score: 0.9491\n",
            "Epoch: 68, Loss: 0.0499, Val F1 score: 0.9458\n",
            "Epoch: 69, Loss: 0.0436, Val F1 score: 0.9535\n",
            "Epoch: 70, Loss: 0.0443, Val F1 score: 0.9531\n",
            "Epoch: 71, Loss: 0.0385, Val F1 score: 0.9557\n",
            "Epoch: 72, Loss: 0.0370, Val F1 score: 0.9566\n",
            "Epoch: 73, Loss: 0.0384, Val F1 score: 0.9548\n",
            "Epoch: 74, Loss: 0.0384, Val F1 score: 0.9588\n",
            "Epoch: 75, Loss: 0.0350, Val F1 score: 0.9596\n",
            "Epoch: 76, Loss: 0.0350, Val F1 score: 0.9598\n",
            "Epoch: 77, Loss: 0.0340, Val F1 score: 0.9598\n",
            "Epoch: 78, Loss: 0.0338, Val F1 score: 0.9586\n",
            "Epoch: 79, Loss: 0.0364, Val F1 score: 0.9589\n",
            "Epoch: 80, Loss: 0.0351, Val F1 score: 0.9578\n",
            "Epoch: 81, Loss: 0.0369, Val F1 score: 0.9573\n",
            "Epoch: 82, Loss: 0.0351, Val F1 score: 0.9572\n",
            "Epoch: 83, Loss: 0.0343, Val F1 score: 0.9597\n",
            "Epoch: 84, Loss: 0.0344, Val F1 score: 0.9610\n",
            "Epoch: 85, Loss: 0.0324, Val F1 score: 0.9578\n",
            "Epoch: 86, Loss: 0.0340, Val F1 score: 0.9599\n",
            "Epoch: 87, Loss: 0.0349, Val F1 score: 0.9614\n",
            "Epoch: 88, Loss: 0.0335, Val F1 score: 0.9625\n",
            "Epoch: 89, Loss: 0.0328, Val F1 score: 0.9623\n",
            "Epoch: 90, Loss: 0.0325, Val F1 score: 0.9633\n",
            "Epoch: 91, Loss: 0.0313, Val F1 score: 0.9611\n",
            "Epoch: 92, Loss: 0.0314, Val F1 score: 0.9622\n",
            "Epoch: 93, Loss: 0.0300, Val F1 score: 0.9641\n",
            "Epoch: 94, Loss: 0.0306, Val F1 score: 0.9638\n",
            "Epoch: 95, Loss: 0.0322, Val F1 score: 0.9617\n",
            "Epoch: 96, Loss: 0.0310, Val F1 score: 0.9592\n",
            "Epoch: 97, Loss: 0.0325, Val F1 score: 0.9626\n",
            "Epoch: 98, Loss: 0.0312, Val F1 score: 0.9630\n",
            "Epoch: 99, Loss: 0.0295, Val F1 score: 0.9600\n",
            "Epoch: 100, Loss: 0.0319, Val F1 score: 0.9623\n"
          ],
          "name": "stdout"
        }
      ]
    },
    {
      "cell_type": "code",
      "metadata": {
        "id": "9WFD3iqu9XFq",
        "colab": {
          "base_uri": "https://localhost:8080/"
        },
        "outputId": "322d46ab-2b10-48b3-e4fd-fe8d44e2630d"
      },
      "source": [
        "test_f1, alpha, data = test(model, test_loader, True)\n",
        "print('Test F1 score: {:.4f}'.format(test_f1))"
      ],
      "execution_count": null,
      "outputs": [
        {
          "output_type": "stream",
          "text": [
            "Test F1 score: 0.9746\n"
          ],
          "name": "stdout"
        }
      ]
    },
    {
      "cell_type": "markdown",
      "metadata": {
        "id": "x4sa36BqQwYz"
      },
      "source": [
        "We can see that use skip-connection can greatly improve the model performance."
      ]
    },
    {
      "cell_type": "markdown",
      "metadata": {
        "id": "wLjoK7fVaRPv"
      },
      "source": [
        "### Understanding Attention Heads Learned\n",
        "To better understand the reason why GAT performs better than GCN, let's take a look at the attention $\\alpha_{ij}$ it learned.\n",
        "\n",
        "First, let's visualize how the incoming attention distribute for a single node at the first layer."
      ]
    },
    {
      "cell_type": "code",
      "metadata": {
        "id": "wG7lOY7hOsWG",
        "colab": {
          "base_uri": "https://localhost:8080/"
        },
        "outputId": "eaed395e-6f66-4b7f-c3e3-9ab8899b7de6"
      },
      "source": [
        "alpha = alpha.to('cpu')\n",
        "print(alpha.size())"
      ],
      "execution_count": null,
      "outputs": [
        {
          "output_type": "stream",
          "text": [
            "torch.Size([167500, 4])\n"
          ],
          "name": "stdout"
        }
      ]
    },
    {
      "cell_type": "markdown",
      "metadata": {
        "id": "C_glgZuJaW1h"
      },
      "source": [
        "The size of $\\alpha$ is actually larger than the number of edges in the test dataset, because the model added self-loops to the graph. So first we need to apply the same process to the edge set from data. "
      ]
    },
    {
      "cell_type": "code",
      "metadata": {
        "id": "Mg_ystQZJRkt"
      },
      "source": [
        "edge_index = data.edge_index\n",
        "num_nodes = data.x.size(0)\n",
        "edge_index, _ = remove_self_loops(edge_index)\n",
        "edge_index, _ = add_self_loops(edge_index, num_nodes=num_nodes)"
      ],
      "execution_count": null,
      "outputs": []
    },
    {
      "cell_type": "code",
      "metadata": {
        "id": "NNaju47TMWT9"
      },
      "source": [
        "def to_adj(k):\n",
        "    '''\n",
        "    Convert edge set (edge_index) and `k`-th attention head (alpha) \n",
        "    to a weighted adjacency matrix.\n",
        "    '''\n",
        "    return to_dense_adj(edge_index, edge_attr=alpha[:, k])[0]"
      ],
      "execution_count": null,
      "outputs": []
    },
    {
      "cell_type": "markdown",
      "metadata": {
        "id": "4VuZlGEbgNGn"
      },
      "source": [
        "The first layer has 4 attention heads, convert each to a dense weighted adjacency matrix."
      ]
    },
    {
      "cell_type": "code",
      "metadata": {
        "id": "7Ts_v6jtVMyb"
      },
      "source": [
        "a0 = to_adj(0)\n",
        "a1 = to_adj(1)\n",
        "a2 = to_adj(2)\n",
        "a3 = to_adj(3)"
      ],
      "execution_count": null,
      "outputs": []
    },
    {
      "cell_type": "code",
      "metadata": {
        "id": "_axMc194Mlqw"
      },
      "source": [
        "def plot_incoming_attention(a, k):\n",
        "    '''\n",
        "    Draw incoming edges graph of node `k`,\n",
        "    edges are colored by their attention values `a`.\n",
        "    '''\n",
        "    G = nx.DiGraph() # initialize a directed graph\n",
        "    # gather the neighbors of node k\n",
        "    node_list = (a[:, k] > 0).nonzero(as_tuple=False).view(-1).numpy()\n",
        "    G.add_nodes_from(node_list) # add nodes to graph G\n",
        "    # add edges to graph G\n",
        "    for i in range(a.size(0)):\n",
        "        if a[i, k] > 0:\n",
        "            G.add_edge(i, k)\n",
        "    # generate node positions using force-directed algorithm\n",
        "    pos = nx.spring_layout(G, seed=12345)\n",
        "    # set the edge color by attention value\n",
        "    edge_colors = a[:, k][node_list].numpy()\n",
        "    cmap = plt.cm.OrRd\n",
        "    node_size = 30\n",
        "    # draw nodes\n",
        "    nodes = nx.draw_networkx_nodes(G, pos, node_size=node_size, \n",
        "                                node_color=\"indigo\")\n",
        "    # draw edges\n",
        "    edges = nx.draw_networkx_edges(\n",
        "        G, \n",
        "        pos,\n",
        "        node_size=node_size,\n",
        "        arrowstyle='->',\n",
        "        arrowsize=10,\n",
        "        edge_color=edge_colors,\n",
        "        edge_cmap=cmap,\n",
        "        width=2,\n",
        "    )\n",
        "    # draw node labels\n",
        "    nx.draw_networkx_labels(G, pos, \n",
        "                            {x: str(x) for x in node_list},\n",
        "                            font_size=12)\n",
        "    pc = mpl.collections.PatchCollection(edges, cmap=cmap)\n",
        "    pc.set_array(edge_colors)\n",
        "    pc.set_clim(vmin=0, vmax=1)\n",
        "    plt.colorbar(pc)\n",
        "\n",
        "    ax = plt.gca()\n",
        "    ax.set_axis_off()"
      ],
      "execution_count": null,
      "outputs": []
    },
    {
      "cell_type": "markdown",
      "metadata": {
        "id": "9vB0zY-7gvb9"
      },
      "source": [
        "Then let's draw the learned attention of node 0 over its incoming edges, and color the edges by their attention value."
      ]
    },
    {
      "cell_type": "code",
      "metadata": {
        "colab": {
          "base_uri": "https://localhost:8080/",
          "height": 270
        },
        "id": "Lrvv2j5JWWeB",
        "outputId": "1d7fb626-febf-4e50-825a-5c96fee7280b"
      },
      "source": [
        "plot_incoming_attention(a0, 0)\n",
        "plt.title(\"Layer1, Head 0: Node 0\")\n",
        "plt.show()"
      ],
      "execution_count": null,
      "outputs": [
        {
          "output_type": "display_data",
          "data": {
            "image/png": "[encoded data removed]",
            "text/plain": [
              "<Figure size 432x288 with 2 Axes>"
            ]
          },
          "metadata": {
            "tags": [],
            "needs_background": "light"
          }
        }
      ]
    },
    {
      "cell_type": "code",
      "metadata": {
        "colab": {
          "base_uri": "https://localhost:8080/",
          "height": 270
        },
        "id": "V2rOXErDWf_I",
        "outputId": "d71eaedd-ea03-463d-9a72-9a904f339fa8"
      },
      "source": [
        "plot_incoming_attention(a1, 0)\n",
        "plt.title(\"Layer1, Head 1: Node 0\")\n",
        "plt.show()"
      ],
      "execution_count": null,
      "outputs": [
        {
          "output_type": "display_data",
          "data": {
            "image/png": "[encoded data removed]",
            "text/plain": [
              "<Figure size 432x288 with 2 Axes>"
            ]
          },
          "metadata": {
            "tags": [],
            "needs_background": "light"
          }
        }
      ]
    },
    {
      "cell_type": "code",
      "metadata": {
        "colab": {
          "base_uri": "https://localhost:8080/",
          "height": 270
        },
        "id": "_i5MxxSgWf5i",
        "outputId": "b2fd3b73-5510-49e3-fc90-1ca0114e32c1"
      },
      "source": [
        "plot_incoming_attention(a2, 0)\n",
        "plt.title(\"Layer1, Head 2: Node 0\")\n",
        "plt.show()"
      ],
      "execution_count": null,
      "outputs": [
        {
          "output_type": "display_data",
          "data": {
            "image/png": "[encoded data removed]",
            "text/plain": [
              "<Figure size 432x288 with 2 Axes>"
            ]
          },
          "metadata": {
            "tags": [],
            "needs_background": "light"
          }
        }
      ]
    },
    {
      "cell_type": "code",
      "metadata": {
        "colab": {
          "base_uri": "https://localhost:8080/",
          "height": 270
        },
        "id": "tgRXfzegWfzy",
        "outputId": "d0adb5b8-b265-475f-c69e-09755a2c5247"
      },
      "source": [
        "plot_incoming_attention(a3, 0)\n",
        "plt.title(\"Layer1, Head 3: Node 0\")\n",
        "plt.show()"
      ],
      "execution_count": null,
      "outputs": [
        {
          "output_type": "display_data",
          "data": {
            "image/png": "[encoded data removed]",
            "text/plain": [
              "<Figure size 432x288 with 2 Axes>"
            ]
          },
          "metadata": {
            "tags": [],
            "needs_background": "light"
          }
        }
      ]
    },
    {
      "cell_type": "markdown",
      "metadata": {
        "id": "Uuc7IGpQiXkm"
      },
      "source": [
        "From the four graphs, we can see that different attention heads show distinct pattern, each favors different neighbors.\n",
        "For most heads, the attentions are not uniformly distributed among the neighborhood, i.e. only a small subset of neighboring nodes have very high importance."
      ]
    },
    {
      "cell_type": "markdown",
      "metadata": {
        "id": "6_7nEss7kUsq"
      },
      "source": [
        "A more quantitative analysis is to calculate the entropy of the attention distribution over the incoming edges to each node.\n",
        "$$H(\\alpha_i) = - \\sum_{j\\in \\mathcal{N}_i} \\alpha_{ij} \\log_2{\\alpha_{ij}}$$"
      ]
    },
    {
      "cell_type": "code",
      "metadata": {
        "id": "vzIJfh-WnZK8"
      },
      "source": [
        "def entropy(a):\n",
        "    '''\n",
        "    Calculate the entropy of attention `a` column-wise\n",
        "    '''\n",
        "    log_a = torch.log2(a)\n",
        "    log_a[torch.isinf(log_a)] = float('nan')\n",
        "    return - torch.nansum(a * log_a, dim=0).numpy()"
      ],
      "execution_count": null,
      "outputs": []
    },
    {
      "cell_type": "markdown",
      "metadata": {
        "id": "iwre4DohyqEu"
      },
      "source": [
        "Draw the histograms of attention entropy for each head. "
      ]
    },
    {
      "cell_type": "code",
      "metadata": {
        "colab": {
          "base_uri": "https://localhost:8080/",
          "height": 295
        },
        "id": "R9hYXTuSnZIG",
        "outputId": "42fa2d91-e608-4412-c34b-df96e6efa496"
      },
      "source": [
        "fig, axes = plt.subplots(2, 2, sharex=True, sharey=True)\n",
        "axes[0, 0].hist(entropy(a0))\n",
        "axes[0, 0].set_title(\"Layer 1, Head 0\")\n",
        "axes[0, 1].hist(entropy(a1))\n",
        "axes[0, 1].set_title(\"Layer 1, Head 1\")\n",
        "axes[1, 0].hist(entropy(a2))\n",
        "axes[1, 0].set_title(\"Layer 1, Head 2\")\n",
        "axes[1, 1].hist(entropy(a3))\n",
        "axes[1, 1].set_title(\"Layer 1, Head 3\")\n",
        "plt.setp(axes[-1, :], xlabel=\"entropy\")\n",
        "plt.setp(axes[:, 0], ylabel=\"# of nodes\")\n",
        "plt.show()"
      ],
      "execution_count": null,
      "outputs": [
        {
          "output_type": "display_data",
          "data": {
            "image/png": "[encoded data removed]",
            "text/plain": [
              "<Figure size 432x288 with 4 Axes>"
            ]
          },
          "metadata": {
            "tags": [],
            "needs_background": "light"
          }
        }
      ]
    },
    {
      "cell_type": "markdown",
      "metadata": {
        "id": "si3XJvC2y7DH"
      },
      "source": [
        "As a reference, simulate the case when the attention distribution is uniform for all nodes."
      ]
    },
    {
      "cell_type": "code",
      "metadata": {
        "id": "SjFFTJnInZFo"
      },
      "source": [
        "rand_a = torch.rand(edge_index.size(1))\n",
        "rand_a = to_dense_adj(edge_index, edge_attr=rand_a)[0]\n",
        "rand_a = rand_a / rand_a.sum(dim=0) # normalize column-wise so each column sum to 1"
      ],
      "execution_count": null,
      "outputs": []
    },
    {
      "cell_type": "code",
      "metadata": {
        "colab": {
          "base_uri": "https://localhost:8080/",
          "height": 295
        },
        "id": "_2cvsv-Xzg2q",
        "outputId": "f77b635b-0d1e-4921-f132-876ba76c8818"
      },
      "source": [
        "plt.hist(entropy(rand_a))\n",
        "plt.title(\"Uniform distribution\")\n",
        "plt.xlabel(\"entropy\")\n",
        "plt.ylabel(\"# of nodes\")\n",
        "plt.show()"
      ],
      "execution_count": null,
      "outputs": [
        {
          "output_type": "display_data",
          "data": {
            "image/png": "[encoded data removed]",
            "text/plain": [
              "<Figure size 432x288 with 1 Axes>"
            ]
          },
          "metadata": {
            "tags": [],
            "needs_background": "light"
          }
        }
      ]
    },
    {
      "cell_type": "markdown",
      "metadata": {
        "id": "oMJDuEoG0Ase"
      },
      "source": [
        "As we can see, the actual attention entropy distribution is completely skewed compare to uniform distribution. \n",
        "It's likely that the learned attention can help the model assgin more importaince to more relevant neighboring nodes, therefore making it performs better than GCN."
      ]
    },
    {
      "cell_type": "markdown",
      "metadata": {
        "id": "uLyH1yoL1Fi8"
      },
      "source": [
        "## Reference\n",
        "\n",
        "1. Hamilton, W., Ying, Z., & Leskovec, J. (2017). Inductive representation learning on large graphs. In Advances in neural information processing systems (pp. 1024-1034).\n",
        "\n",
        "2. Veličković, P., Cucurull, G., Casanova, A., Romero, A., Lio, P., & Bengio, Y. (2017). Graph attention networks. arXiv preprint arXiv:1710.10903.\n",
        "\n",
        "3. Kipf, T. N., & Welling, M. (2016). Semi-supervised classification with graph convolutional networks. arXiv preprint arXiv:1609.02907.\n",
        "\n",
        "4. https://docs.dgl.ai/tutorials/models/1_gnn/9_gat.html\n",
        "\n",
        "5. https://pytorch-geometric.readthedocs.io/en/latest/notes/colabs.html"
      ]
    }
  ]
}